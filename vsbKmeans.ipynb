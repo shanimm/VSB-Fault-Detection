{
 "cells": [
  {
   "cell_type": "code",
   "execution_count": 6,
   "metadata": {},
   "outputs": [
    {
     "name": "stdout",
     "output_type": "stream",
     "text": [
      "Collecting pyarrow\n",
      "  Using cached https://files.pythonhosted.org/packages/0e/ee/71955f715d65afa1fc319b33dfe1976cd09a1a349af7756b232dbae85409/pyarrow-0.13.0-cp35-cp35m-manylinux1_x86_64.whl\n",
      "Requirement already satisfied: numpy>=1.14 in /usr/local/envs/py3env/lib/python3.5/site-packages (from pyarrow) (1.14.0)\n",
      "Requirement already satisfied: six>=1.0.0 in /usr/local/envs/py3env/lib/python3.5/site-packages (from pyarrow) (1.10.0)\n",
      "Installing collected packages: pyarrow\n",
      "Successfully installed pyarrow-0.13.0\n",
      "Collecting keras\n",
      "  Using cached https://files.pythonhosted.org/packages/5e/10/aa32dad071ce52b5502266b5c659451cfd6ffcbf14e6c8c4f16c0ff5aaab/Keras-2.2.4-py2.py3-none-any.whl\n",
      "Requirement already satisfied: six>=1.9.0 in /usr/local/envs/py3env/lib/python3.5/site-packages (from keras) (1.10.0)\n",
      "Requirement already satisfied: h5py in /usr/local/envs/py3env/lib/python3.5/site-packages (from keras) (2.7.1)\n",
      "Requirement already satisfied: scipy>=0.14 in /usr/local/envs/py3env/lib/python3.5/site-packages (from keras) (1.0.0)\n",
      "Collecting keras-applications>=1.0.6 (from keras)\n",
      "  Using cached https://files.pythonhosted.org/packages/90/85/64c82949765cfb246bbdaf5aca2d55f400f792655927a017710a78445def/Keras_Applications-1.0.7-py2.py3-none-any.whl\n",
      "Collecting keras-preprocessing>=1.0.5 (from keras)\n",
      "  Using cached https://files.pythonhosted.org/packages/c0/bf/0315ef6a9fd3fc2346e85b0ff1f5f83ca17073f2c31ac719ab2e4da0d4a3/Keras_Preprocessing-1.0.9-py2.py3-none-any.whl\n",
      "Requirement already satisfied: numpy>=1.9.1 in /usr/local/envs/py3env/lib/python3.5/site-packages (from keras) (1.14.0)\n",
      "Requirement already satisfied: pyyaml in /usr/local/envs/py3env/lib/python3.5/site-packages (from keras) (3.13)\n",
      "Installing collected packages: keras-applications, keras-preprocessing, keras\n",
      "Successfully installed keras-2.2.4 keras-applications-1.0.7 keras-preprocessing-1.0.9\n",
      "Collecting tsfresh\n",
      "  Using cached https://files.pythonhosted.org/packages/7f/67/841f3620083ce2611fb6020e0f7567caaccd73a4a8d635e674abd412cf9b/tsfresh-0.11.2-py2.py3-none-any.whl\n",
      "Requirement already satisfied: statsmodels>=0.8.0 in /usr/local/envs/py3env/lib/python3.5/site-packages (from tsfresh) (0.8.0)\n",
      "Requirement already satisfied: scikit-learn>=0.19.0 in /usr/local/envs/py3env/lib/python3.5/site-packages (from tsfresh) (0.19.1)\n",
      "Requirement already satisfied: scipy>=0.17.0 in /usr/local/envs/py3env/lib/python3.5/site-packages (from tsfresh) (1.0.0)\n",
      "Requirement already satisfied: future>=0.16.0 in /usr/local/envs/py3env/lib/python3.5/site-packages (from tsfresh) (0.16.0)\n",
      "Collecting tqdm>=4.10.0 (from tsfresh)\n",
      "  Using cached https://files.pythonhosted.org/packages/6c/4b/c38b5144cf167c4f52288517436ccafefe9dc01b8d1c190e18a6b154cd4a/tqdm-4.31.1-py2.py3-none-any.whl\n",
      "Requirement already satisfied: six>=1.10.0 in /usr/local/envs/py3env/lib/python3.5/site-packages (from tsfresh) (1.10.0)\n",
      "Requirement already satisfied: distributed>=1.18.3 in /usr/local/envs/py3env/lib/python3.5/site-packages (from tsfresh) (1.21.8)\n",
      "Requirement already satisfied: numpy>=1.10.4 in /usr/local/envs/py3env/lib/python3.5/site-packages (from tsfresh) (1.14.0)\n",
      "Requirement already satisfied: patsy>=0.4.1 in /usr/local/envs/py3env/lib/python3.5/site-packages (from tsfresh) (0.5.0)\n",
      "Requirement already satisfied: dask>=0.15.2 in /usr/local/envs/py3env/lib/python3.5/site-packages (from tsfresh) (0.17.1)\n",
      "Requirement already satisfied: requests>=2.9.1 in /usr/local/envs/py3env/lib/python3.5/site-packages (from tsfresh) (2.18.4)\n",
      "Requirement already satisfied: pandas<=0.23.4,>=0.20.3 in /usr/local/envs/py3env/lib/python3.5/site-packages (from tsfresh) (0.22.0)\n",
      "Requirement already satisfied: click>=6.6 in /usr/local/envs/py3env/lib/python3.5/site-packages (from distributed>=1.18.3->tsfresh) (6.7)\n",
      "Requirement already satisfied: sortedcontainers in /usr/local/envs/py3env/lib/python3.5/site-packages (from distributed>=1.18.3->tsfresh) (2.0.5)\n",
      "Requirement already satisfied: tornado>=4.5.1 in /usr/local/envs/py3env/lib/python3.5/site-packages (from distributed>=1.18.3->tsfresh) (4.5.1)\n",
      "Requirement already satisfied: zict>=0.1.3 in /usr/local/envs/py3env/lib/python3.5/site-packages (from distributed>=1.18.3->tsfresh) (0.1.3)\n",
      "Requirement already satisfied: cloudpickle>=0.2.2 in /usr/local/envs/py3env/lib/python3.5/site-packages (from distributed>=1.18.3->tsfresh) (0.5.5)\n",
      "Requirement already satisfied: msgpack in /usr/local/envs/py3env/lib/python3.5/site-packages (from distributed>=1.18.3->tsfresh) (0.5.6)\n",
      "Requirement already satisfied: psutil in /usr/local/envs/py3env/lib/python3.5/site-packages (from distributed>=1.18.3->tsfresh) (4.3.0)\n",
      "Requirement already satisfied: toolz>=0.7.4 in /usr/local/envs/py3env/lib/python3.5/site-packages (from distributed>=1.18.3->tsfresh) (0.9.0)\n",
      "Requirement already satisfied: tblib in /usr/local/envs/py3env/lib/python3.5/site-packages (from distributed>=1.18.3->tsfresh) (1.3.2)\n",
      "Requirement already satisfied: chardet<3.1.0,>=3.0.2 in /usr/local/envs/py3env/lib/python3.5/site-packages (from requests>=2.9.1->tsfresh) (3.0.4)\n",
      "Requirement already satisfied: idna<2.7,>=2.5 in /usr/local/envs/py3env/lib/python3.5/site-packages (from requests>=2.9.1->tsfresh) (2.6)\n",
      "Requirement already satisfied: urllib3<1.23,>=1.21.1 in /usr/local/envs/py3env/lib/python3.5/site-packages (from requests>=2.9.1->tsfresh) (1.22)\n",
      "Requirement already satisfied: certifi>=2017.4.17 in /usr/local/envs/py3env/lib/python3.5/site-packages (from requests>=2.9.1->tsfresh) (2018.8.24)\n",
      "Requirement already satisfied: python-dateutil>=2 in /usr/local/envs/py3env/lib/python3.5/site-packages (from pandas<=0.23.4,>=0.20.3->tsfresh) (2.5.0)\n",
      "Requirement already satisfied: pytz>=2011k in /usr/local/envs/py3env/lib/python3.5/site-packages (from pandas<=0.23.4,>=0.20.3->tsfresh) (2018.4)\n",
      "Requirement already satisfied: heapdict in /usr/local/envs/py3env/lib/python3.5/site-packages (from zict>=0.1.3->distributed>=1.18.3->tsfresh) (1.0.0)\n",
      "Installing collected packages: tqdm, tsfresh\n",
      "Successfully installed tqdm-4.31.1 tsfresh-0.11.2\n",
      "Collecting sklearn\n",
      "Requirement already satisfied: scikit-learn in /usr/local/envs/py3env/lib/python3.5/site-packages (from sklearn) (0.19.1)\n",
      "Installing collected packages: sklearn\n",
      "Successfully installed sklearn-0.0\n",
      "Collecting Cython\n",
      "  Using cached https://files.pythonhosted.org/packages/e7/bd/59054534d09830394470c14e4dd4a2e8fa64ac14559095a044208bf34c18/Cython-0.29.7-cp35-cp35m-manylinux1_x86_64.whl\n",
      "Installing collected packages: Cython\n",
      "Successfully installed Cython-0.29.7\n",
      "Collecting tslearn\n",
      "Requirement already satisfied: scikit-learn in /usr/local/envs/py3env/lib/python3.5/site-packages (from tslearn) (0.19.1)\n",
      "Requirement already satisfied: Cython in /usr/local/envs/py3env/lib/python3.5/site-packages (from tslearn) (0.29.7)\n",
      "Requirement already satisfied: scipy in /usr/local/envs/py3env/lib/python3.5/site-packages (from tslearn) (1.0.0)\n",
      "Requirement already satisfied: numpy in /usr/local/envs/py3env/lib/python3.5/site-packages (from tslearn) (1.14.0)\n",
      "Installing collected packages: tslearn\n",
      "Successfully installed tslearn-0.1.29\n"
     ]
    }
   ],
   "source": [
    "!pip install pyarrow\n",
    "!pip install keras\n",
    "!pip install tsfresh\n",
    "!pip install sklearn\n",
    "!pip install Cython\n",
    "!pip install tslearn"
   ]
  },
  {
   "cell_type": "code",
   "execution_count": 7,
   "metadata": {},
   "outputs": [
    {
     "name": "stderr",
     "output_type": "stream",
     "text": [
      "/usr/local/envs/py3env/lib/python3.5/site-packages/h5py/__init__.py:36: FutureWarning: Conversion of the second argument of issubdtype from `float` to `np.floating` is deprecated. In future, it will be treated as `np.float64 == np.dtype(float).type`.\n",
      "  from ._conv import register_converters as _register_converters\n",
      "Using TensorFlow backend.\n"
     ]
    }
   ],
   "source": [
    "import gc\n",
    "import pandas as pd\n",
    "import matplotlib as mt\n",
    "import numpy as np\n",
    "import pyarrow as pa\n",
    "import pyarrow.parquet as pq\n",
    "import matplotlib.pyplot as plt\n",
    "import seaborn as sns\n",
    "from keras.layers import *\n",
    "from keras.models import Model\n",
    "\n",
    "from sklearn.model_selection import train_test_split \n",
    "from keras import backend as K \n",
    "from keras import optimizers \n",
    "from keras.callbacks import  *\n",
    "import pyarrow.parquet as pq\n",
    "import tensorflow as tf"
   ]
  },
  {
   "cell_type": "code",
   "execution_count": 8,
   "metadata": {},
   "outputs": [],
   "source": [
    "train1=pq.read_pandas('train1Scaled.parquet').to_pandas()"
   ]
  },
  {
   "cell_type": "code",
   "execution_count": 9,
   "metadata": {},
   "outputs": [],
   "source": [
    "train2=train1.T"
   ]
  },
  {
   "cell_type": "code",
   "execution_count": 10,
   "metadata": {},
   "outputs": [
    {
     "data": {
      "text/plain": [
       "<function gc.collect>"
      ]
     },
     "execution_count": 10,
     "metadata": {},
     "output_type": "execute_result"
    }
   ],
   "source": [
    "del train1\n",
    "gc.collect"
   ]
  },
  {
   "cell_type": "code",
   "execution_count": 11,
   "metadata": {},
   "outputs": [],
   "source": [
    "meta1=pd.read_csv(\"metadata_train.csv\")\n",
    "df1=meta1.target"
   ]
  },
  {
   "cell_type": "code",
   "execution_count": 12,
   "metadata": {},
   "outputs": [],
   "source": [
    "X_train, X_test, y_train, y_test = train_test_split(train2,df1, test_size=0.33, random_state=5)"
   ]
  },
  {
   "cell_type": "code",
   "execution_count": 13,
   "metadata": {},
   "outputs": [],
   "source": [
    "# from tslearn.clustering import TimeSeriesKMeans\n",
    "# train22=np.array(X_train)\n",
    "# test22=np.array(X_test)\n",
    "\n",
    "# train22 = train22.reshape((train22.shape[0], 800000, 1))\n",
    "# test22 = test22.reshape(test22.shape[0],800000,1)"
   ]
  },
  {
   "cell_type": "code",
   "execution_count": 14,
   "metadata": {},
   "outputs": [
    {
     "data": {
      "text/plain": [
       "<function gc.collect>"
      ]
     },
     "execution_count": 14,
     "metadata": {},
     "output_type": "execute_result"
    }
   ],
   "source": [
    "del train2\n",
    "gc.collect"
   ]
  },
  {
   "cell_type": "code",
   "execution_count": 15,
   "metadata": {},
   "outputs": [],
   "source": [
    "# if metric=\"dtw\" doesn't work, try \"softdtw\" and if not then use \"euclidean\"\n",
    "# kmEu = TimeSeriesKMeans(n_clusters=2, metric=\"euclidean\", max_iter=5, verbose=False, random_state=0).fit(train22)\n"
   ]
  },
  {
   "cell_type": "code",
   "execution_count": 16,
   "metadata": {},
   "outputs": [],
   "source": [
    "# pred6=kmEu.fit_predict(test22)"
   ]
  },
  {
   "cell_type": "code",
   "execution_count": 33,
   "metadata": {},
   "outputs": [
    {
     "name": "stdout",
     "output_type": "stream",
     "text": [
      "Index(['Unnamed: 0', '0'], dtype='object')\n"
     ]
    }
   ],
   "source": [
    "# print(kmEu)\n",
    "print(pred6.columns)"
   ]
  },
  {
   "cell_type": "code",
   "execution_count": 18,
   "metadata": {},
   "outputs": [],
   "source": [
    "# kmdtw.score(pred6,y_test)"
   ]
  },
  {
   "cell_type": "code",
   "execution_count": 19,
   "metadata": {},
   "outputs": [],
   "source": [
    "# pd.DataFrame(pred6).to_csv(\"kmEu.csv\")"
   ]
  },
  {
   "cell_type": "code",
   "execution_count": 20,
   "metadata": {},
   "outputs": [],
   "source": [
    "# !gsutil cp 'vsbKmeans.ipynb' gs://pitt_ml_pd"
   ]
  },
  {
   "cell_type": "code",
   "execution_count": 21,
   "metadata": {},
   "outputs": [],
   "source": [
    "# kmEu.get_params"
   ]
  },
  {
   "cell_type": "code",
   "execution_count": 22,
   "metadata": {},
   "outputs": [],
   "source": [
    "# plt.plot(pred6.ravel())\n",
    "# plt.plot(kmEu.cluster_centers_.ravel())\n",
    "# plt.title(\"Euclidean $k$-means\")\n",
    "\n",
    "# plt.tight_layout()\n",
    "# plt.show()"
   ]
  },
  {
   "cell_type": "code",
   "execution_count": 23,
   "metadata": {},
   "outputs": [],
   "source": [
    "# plt.scatter(pred6.ravel(),kmEu.cluster_centers_.ravel())\n",
    "# plt.title(\"Euclidean $k$-means\")\n",
    "# plt.tight_layout()\n",
    "# plt.show()"
   ]
  },
  {
   "cell_type": "code",
   "execution_count": 24,
   "metadata": {},
   "outputs": [],
   "source": [
    "# if metric=\"dtw\" doesn't work, try \"softdtw\" and if not then use \"euclidean\"\n",
    "# kmsoftdtw = TimeSeriesKMeans(n_clusters=2, metric=\"softdtw\", max_iter=3, verbose=False, random_state=0).fit(train22)\n"
   ]
  },
  {
   "cell_type": "code",
   "execution_count": 25,
   "metadata": {},
   "outputs": [],
   "source": [
    "# kmsoftdtw.get_params"
   ]
  },
  {
   "cell_type": "code",
   "execution_count": 27,
   "metadata": {},
   "outputs": [],
   "source": [
    "pred6=pd.read_csv('kmEu.csv')"
   ]
  },
  {
   "cell_type": "code",
   "execution_count": 28,
   "metadata": {},
   "outputs": [],
   "source": [
    "from sklearn.metrics import confusion_matrix, precision_score, recall_score"
   ]
  },
  {
   "cell_type": "code",
   "execution_count": 36,
   "metadata": {},
   "outputs": [],
   "source": [
    "cm = confusion_matrix(y_test, pred6['0'])"
   ]
  },
  {
   "cell_type": "code",
   "execution_count": 38,
   "metadata": {},
   "outputs": [
    {
     "name": "stdout",
     "output_type": "stream",
     "text": [
      "[[1429 1276]\n",
      " [  85   85]]\n"
     ]
    }
   ],
   "source": [
    "#K-Means Cross Validated:\n",
    "print(cm)"
   ]
  },
  {
   "cell_type": "code",
   "execution_count": 52,
   "metadata": {},
   "outputs": [
    {
     "name": "stderr",
     "output_type": "stream",
     "text": [
      "/usr/local/envs/py3env/lib/python3.5/site-packages/matplotlib/font_manager.py:1320: UserWarning: findfont: Font family ['sans-serif'] not found. Falling back to DejaVu Sans\n",
      "  (prop.get_family(), self.defaultFamily[fontext]))\n"
     ]
    },
    {
     "data": {
      "image/png": "[encoded data removed]",
      "text/plain": [
       "<matplotlib.figure.Figure at 0x7efef100c828>"
      ]
     },
     "metadata": {},
     "output_type": "display_data"
    }
   ],
   "source": [
    "import itertools\n",
    "\n",
    "accuracy = np.trace(cm) / float(np.sum(cm))\n",
    "misclass = 1 - accuracy\n",
    "\n",
    "plt.figure(figsize=(8, 6))\n",
    "plt.imshow(cm, interpolation='nearest', cmap='Blues')\n",
    "plt.title(\"K-Means Cross Validated:\")\n",
    "plt.colorbar()\n",
    "\n",
    "# tick_marks = np.arange(len(target_names))\n",
    "# plt.xticks(tick_marks, target_names, rotation=45)\n",
    "# plt.yticks(tick_marks, target_names)\n",
    "\n",
    "thresh = cm.max() / 1.5 #if normalize else cm.max() / 2\n",
    "for i, j in itertools.product(range(cm.shape[0]), range(cm.shape[1])):\n",
    "\n",
    "#   if normalize:\n",
    "    plt.text(j, i, \"{:0.4f}\".format(cm[i, j]),\n",
    "                     horizontalalignment=\"center\",\n",
    "                     color=\"white\" if cm[i, j] > thresh else \"black\")\n",
    "\n",
    "plt.grid(b=None)\n",
    "plt.tight_layout()\n",
    "plt.ylabel('True label')\n",
    "plt.xlabel('Predicted label\\naccuracy={:0.4f}; misclass={:0.4f}'.format(accuracy, misclass))\n",
    "plt.show()"
   ]
  },
  {
   "cell_type": "code",
   "execution_count": null,
   "metadata": {},
   "outputs": [],
   "source": []
  }
 ],
 "metadata": {
  "kernelspec": {
   "display_name": "Python 3",
   "language": "python",
   "name": "python3"
  },
  "language_info": {
   "codemirror_mode": {
    "name": "ipython",
    "version": 3
   },
   "file_extension": ".py",
   "mimetype": "text/x-python",
   "name": "python",
   "nbconvert_exporter": "python",
   "pygments_lexer": "ipython3",
   "version": "3.5.6"
  }
 },
 "nbformat": 4,
 "nbformat_minor": 2
}
