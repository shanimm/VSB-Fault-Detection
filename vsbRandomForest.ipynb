{
 "cells": [
  {
   "cell_type": "code",
   "execution_count": 1,
   "metadata": {},
   "outputs": [
    {
     "name": "stdout",
     "output_type": "stream",
     "text": [
      "Collecting pyarrow\n",
      "  Using cached https://files.pythonhosted.org/packages/0e/ee/71955f715d65afa1fc319b33dfe1976cd09a1a349af7756b232dbae85409/pyarrow-0.13.0-cp35-cp35m-manylinux1_x86_64.whl\n",
      "Requirement already satisfied: six>=1.0.0 in /usr/local/envs/py3env/lib/python3.5/site-packages (from pyarrow) (1.10.0)\n",
      "Requirement already satisfied: numpy>=1.14 in /usr/local/envs/py3env/lib/python3.5/site-packages (from pyarrow) (1.14.0)\n",
      "Installing collected packages: pyarrow\n",
      "Successfully installed pyarrow-0.13.0\n",
      "Collecting keras\n",
      "  Using cached https://files.pythonhosted.org/packages/5e/10/aa32dad071ce52b5502266b5c659451cfd6ffcbf14e6c8c4f16c0ff5aaab/Keras-2.2.4-py2.py3-none-any.whl\n",
      "Requirement already satisfied: six>=1.9.0 in /usr/local/envs/py3env/lib/python3.5/site-packages (from keras) (1.10.0)\n",
      "Collecting keras-preprocessing>=1.0.5 (from keras)\n",
      "  Using cached https://files.pythonhosted.org/packages/c0/bf/0315ef6a9fd3fc2346e85b0ff1f5f83ca17073f2c31ac719ab2e4da0d4a3/Keras_Preprocessing-1.0.9-py2.py3-none-any.whl\n",
      "Requirement already satisfied: pyyaml in /usr/local/envs/py3env/lib/python3.5/site-packages (from keras) (3.13)\n",
      "Requirement already satisfied: h5py in /usr/local/envs/py3env/lib/python3.5/site-packages (from keras) (2.7.1)\n",
      "Collecting keras-applications>=1.0.6 (from keras)\n",
      "  Using cached https://files.pythonhosted.org/packages/90/85/64c82949765cfb246bbdaf5aca2d55f400f792655927a017710a78445def/Keras_Applications-1.0.7-py2.py3-none-any.whl\n",
      "Requirement already satisfied: scipy>=0.14 in /usr/local/envs/py3env/lib/python3.5/site-packages (from keras) (1.0.0)\n",
      "Requirement already satisfied: numpy>=1.9.1 in /usr/local/envs/py3env/lib/python3.5/site-packages (from keras) (1.14.0)\n",
      "Installing collected packages: keras-preprocessing, keras-applications, keras\n",
      "Successfully installed keras-2.2.4 keras-applications-1.0.7 keras-preprocessing-1.0.9\n",
      "Collecting tsfresh\n",
      "\u001b[?25l  Downloading https://files.pythonhosted.org/packages/7f/67/841f3620083ce2611fb6020e0f7567caaccd73a4a8d635e674abd412cf9b/tsfresh-0.11.2-py2.py3-none-any.whl (119kB)\n",
      "\u001b[K    100% |████████████████████████████████| 122kB 4.3MB/s ta 0:00:01   17% |█████▌                          | 20kB 2.4MB/s eta 0:00:01\n",
      "\u001b[?25hRequirement already satisfied: future>=0.16.0 in /usr/local/envs/py3env/lib/python3.5/site-packages (from tsfresh) (0.16.0)\n",
      "Requirement already satisfied: numpy>=1.10.4 in /usr/local/envs/py3env/lib/python3.5/site-packages (from tsfresh) (1.14.0)\n",
      "Requirement already satisfied: distributed>=1.18.3 in /usr/local/envs/py3env/lib/python3.5/site-packages (from tsfresh) (1.21.8)\n",
      "Requirement already satisfied: six>=1.10.0 in /usr/local/envs/py3env/lib/python3.5/site-packages (from tsfresh) (1.10.0)\n",
      "Requirement already satisfied: statsmodels>=0.8.0 in /usr/local/envs/py3env/lib/python3.5/site-packages (from tsfresh) (0.8.0)\n",
      "Requirement already satisfied: requests>=2.9.1 in /usr/local/envs/py3env/lib/python3.5/site-packages (from tsfresh) (2.18.4)\n",
      "Collecting tqdm>=4.10.0 (from tsfresh)\n",
      "\u001b[?25l  Downloading https://files.pythonhosted.org/packages/6c/4b/c38b5144cf167c4f52288517436ccafefe9dc01b8d1c190e18a6b154cd4a/tqdm-4.31.1-py2.py3-none-any.whl (48kB)\n",
      "\u001b[K    100% |████████████████████████████████| 51kB 9.4MB/s eta 0:00:01\n",
      "\u001b[?25hRequirement already satisfied: dask>=0.15.2 in /usr/local/envs/py3env/lib/python3.5/site-packages (from tsfresh) (0.17.1)\n",
      "Requirement already satisfied: scipy>=0.17.0 in /usr/local/envs/py3env/lib/python3.5/site-packages (from tsfresh) (1.0.0)\n",
      "Requirement already satisfied: pandas<=0.23.4,>=0.20.3 in /usr/local/envs/py3env/lib/python3.5/site-packages (from tsfresh) (0.22.0)\n",
      "Requirement already satisfied: scikit-learn>=0.19.0 in /usr/local/envs/py3env/lib/python3.5/site-packages (from tsfresh) (0.19.1)\n",
      "Requirement already satisfied: patsy>=0.4.1 in /usr/local/envs/py3env/lib/python3.5/site-packages (from tsfresh) (0.5.0)\n",
      "Requirement already satisfied: toolz>=0.7.4 in /usr/local/envs/py3env/lib/python3.5/site-packages (from distributed>=1.18.3->tsfresh) (0.9.0)\n",
      "Requirement already satisfied: click>=6.6 in /usr/local/envs/py3env/lib/python3.5/site-packages (from distributed>=1.18.3->tsfresh) (6.7)\n",
      "Requirement already satisfied: tornado>=4.5.1 in /usr/local/envs/py3env/lib/python3.5/site-packages (from distributed>=1.18.3->tsfresh) (4.5.1)\n",
      "Requirement already satisfied: tblib in /usr/local/envs/py3env/lib/python3.5/site-packages (from distributed>=1.18.3->tsfresh) (1.3.2)\n",
      "Requirement already satisfied: psutil in /usr/local/envs/py3env/lib/python3.5/site-packages (from distributed>=1.18.3->tsfresh) (4.3.0)\n",
      "Requirement already satisfied: zict>=0.1.3 in /usr/local/envs/py3env/lib/python3.5/site-packages (from distributed>=1.18.3->tsfresh) (0.1.3)\n",
      "Requirement already satisfied: sortedcontainers in /usr/local/envs/py3env/lib/python3.5/site-packages (from distributed>=1.18.3->tsfresh) (2.0.5)\n",
      "Requirement already satisfied: msgpack in /usr/local/envs/py3env/lib/python3.5/site-packages (from distributed>=1.18.3->tsfresh) (0.5.6)\n",
      "Requirement already satisfied: cloudpickle>=0.2.2 in /usr/local/envs/py3env/lib/python3.5/site-packages (from distributed>=1.18.3->tsfresh) (0.5.5)\n",
      "Requirement already satisfied: chardet<3.1.0,>=3.0.2 in /usr/local/envs/py3env/lib/python3.5/site-packages (from requests>=2.9.1->tsfresh) (3.0.4)\n",
      "Requirement already satisfied: idna<2.7,>=2.5 in /usr/local/envs/py3env/lib/python3.5/site-packages (from requests>=2.9.1->tsfresh) (2.6)\n",
      "Requirement already satisfied: urllib3<1.23,>=1.21.1 in /usr/local/envs/py3env/lib/python3.5/site-packages (from requests>=2.9.1->tsfresh) (1.22)\n",
      "Requirement already satisfied: certifi>=2017.4.17 in /usr/local/envs/py3env/lib/python3.5/site-packages (from requests>=2.9.1->tsfresh) (2018.8.24)\n",
      "Requirement already satisfied: python-dateutil>=2 in /usr/local/envs/py3env/lib/python3.5/site-packages (from pandas<=0.23.4,>=0.20.3->tsfresh) (2.5.0)\n",
      "Requirement already satisfied: pytz>=2011k in /usr/local/envs/py3env/lib/python3.5/site-packages (from pandas<=0.23.4,>=0.20.3->tsfresh) (2018.4)\n",
      "Requirement already satisfied: heapdict in /usr/local/envs/py3env/lib/python3.5/site-packages (from zict>=0.1.3->distributed>=1.18.3->tsfresh) (1.0.0)\n",
      "Installing collected packages: tqdm, tsfresh\n",
      "Successfully installed tqdm-4.31.1 tsfresh-0.11.2\n",
      "Collecting sklearn\n",
      "  Downloading https://files.pythonhosted.org/packages/1e/7a/dbb3be0ce9bd5c8b7e3d87328e79063f8b263b2b1bfa4774cb1147bfcd3f/sklearn-0.0.tar.gz\n",
      "Requirement already satisfied: scikit-learn in /usr/local/envs/py3env/lib/python3.5/site-packages (from sklearn) (0.19.1)\n",
      "Building wheels for collected packages: sklearn\n",
      "  Running setup.py bdist_wheel for sklearn ... \u001b[?25ldone\n",
      "\u001b[?25h  Stored in directory: /content/.cache/pip/wheels/76/03/bb/589d421d27431bcd2c6da284d5f2286c8e3b2ea3cf1594c074\n",
      "Successfully built sklearn\n",
      "Installing collected packages: sklearn\n",
      "Successfully installed sklearn-0.0\n",
      "Collecting Cython\n",
      "\u001b[?25l  Downloading https://files.pythonhosted.org/packages/e7/bd/59054534d09830394470c14e4dd4a2e8fa64ac14559095a044208bf34c18/Cython-0.29.7-cp35-cp35m-manylinux1_x86_64.whl (2.0MB)\n",
      "\u001b[K    100% |████████████████████████████████| 2.0MB 6.7MB/s eta 0:00:01\n",
      "\u001b[?25hInstalling collected packages: Cython\n",
      "Successfully installed Cython-0.29.7\n",
      "Collecting tslearn\n",
      "\u001b[?25l  Downloading https://files.pythonhosted.org/packages/af/f9/7225f4b1e7ba482b10b544cecf50a0a92bfbbde4ec30fdce824a867ad9ab/tslearn-0.1.29.tar.gz (587kB)\n",
      "\u001b[K    100% |████████████████████████████████| 593kB 10.2MB/s ta 0:00:01\n",
      "\u001b[?25hRequirement already satisfied: numpy in /usr/local/envs/py3env/lib/python3.5/site-packages (from tslearn) (1.14.0)\n",
      "Requirement already satisfied: scipy in /usr/local/envs/py3env/lib/python3.5/site-packages (from tslearn) (1.0.0)\n",
      "Requirement already satisfied: scikit-learn in /usr/local/envs/py3env/lib/python3.5/site-packages (from tslearn) (0.19.1)\n",
      "Requirement already satisfied: Cython in /usr/local/envs/py3env/lib/python3.5/site-packages (from tslearn) (0.29.7)\n",
      "Building wheels for collected packages: tslearn\n",
      "  Running setup.py bdist_wheel for tslearn ... \u001b[?25ldone\n",
      "\u001b[?25h  Stored in directory: /content/.cache/pip/wheels/af/99/f8/2977c3eb9a525f9afe7978fdda948700c1e955225ebdb1f213\n",
      "Successfully built tslearn\n",
      "Installing collected packages: tslearn\n"
     ]
    },
    {
     "name": "stdout",
     "output_type": "stream",
     "text": [
      "Successfully installed tslearn-0.1.29\r\n"
     ]
    }
   ],
   "source": [
    "!pip install pyarrow\n",
    "!pip install keras\n",
    "!pip install tsfresh\n",
    "!pip install sklearn\n",
    "!pip install Cython\n",
    "!pip install tslearn"
   ]
  },
  {
   "cell_type": "code",
   "execution_count": 2,
   "metadata": {},
   "outputs": [
    {
     "name": "stderr",
     "output_type": "stream",
     "text": [
      "/usr/local/envs/py3env/lib/python3.5/site-packages/h5py/__init__.py:36: FutureWarning: Conversion of the second argument of issubdtype from `float` to `np.floating` is deprecated. In future, it will be treated as `np.float64 == np.dtype(float).type`.\n",
      "  from ._conv import register_converters as _register_converters\n",
      "Using TensorFlow backend.\n"
     ]
    }
   ],
   "source": [
    "import pandas as pd\n",
    "import matplotlib as mt\n",
    "import numpy as np\n",
    "import pyarrow as pa\n",
    "import pyarrow.parquet as pq\n",
    "import matplotlib.pyplot as plt\n",
    "import seaborn as sns\n",
    "from keras.layers import *\n",
    "from keras.models import Model\n",
    "\n",
    "from sklearn.model_selection import train_test_split \n",
    "from keras import backend as K \n",
    "from keras import optimizers \n",
    "from keras.callbacks import  *\n",
    "import pyarrow.parquet as pq\n",
    "import tensorflow as tf"
   ]
  },
  {
   "cell_type": "code",
   "execution_count": 3,
   "metadata": {},
   "outputs": [],
   "source": [
    "train1=pq.read_pandas('train1Scaled.parquet').to_pandas()"
   ]
  },
  {
   "cell_type": "code",
   "execution_count": 4,
   "metadata": {},
   "outputs": [],
   "source": [
    "train2=train1.T"
   ]
  },
  {
   "cell_type": "code",
   "execution_count": 5,
   "metadata": {},
   "outputs": [],
   "source": [
    "del train1"
   ]
  },
  {
   "cell_type": "code",
   "execution_count": 6,
   "metadata": {},
   "outputs": [],
   "source": [
    "meta1=pd.read_csv(\"metadata_train.csv\")\n",
    "df1=meta1.target"
   ]
  },
  {
   "cell_type": "code",
   "execution_count": 7,
   "metadata": {},
   "outputs": [],
   "source": [
    "X_train, X_test, y_train, y_test = train_test_split(train2,df1, test_size=0.33, random_state=5)"
   ]
  },
  {
   "cell_type": "code",
   "execution_count": 8,
   "metadata": {},
   "outputs": [],
   "source": [
    "from sklearn.ensemble import RandomForestClassifier\n",
    "from sklearn.model_selection import RandomizedSearchCV"
   ]
  },
  {
   "cell_type": "code",
   "execution_count": 9,
   "metadata": {},
   "outputs": [],
   "source": [
    "modelrf = RandomForestClassifier(n_estimators=500, random_state=0)"
   ]
  },
  {
   "cell_type": "code",
   "execution_count": 10,
   "metadata": {},
   "outputs": [],
   "source": [
    "#modelrf is a sample model"
   ]
  },
  {
   "cell_type": "code",
   "execution_count": 11,
   "metadata": {},
   "outputs": [
    {
     "data": {
      "text/plain": [
       "RandomForestClassifier(bootstrap=True, class_weight=None, criterion='gini',\n",
       "            max_depth=None, max_features='auto', max_leaf_nodes=None,\n",
       "            min_impurity_decrease=0.0, min_impurity_split=None,\n",
       "            min_samples_leaf=1, min_samples_split=2,\n",
       "            min_weight_fraction_leaf=0.0, n_estimators=500, n_jobs=1,\n",
       "            oob_score=False, random_state=0, verbose=0, warm_start=False)"
      ]
     },
     "execution_count": 11,
     "metadata": {},
     "output_type": "execute_result"
    }
   ],
   "source": [
    "modelrf.fit(X_train,y_train)"
   ]
  },
  {
   "cell_type": "code",
   "execution_count": 28,
   "metadata": {},
   "outputs": [
    {
     "data": {
      "text/plain": [
       "0.9377391304347826"
      ]
     },
     "execution_count": 28,
     "metadata": {},
     "output_type": "execute_result"
    }
   ],
   "source": [
    "pred5 = modelrf.predict(X_test)\n",
    "modelrf.score(X_test,y_test)"
   ]
  },
  {
   "cell_type": "code",
   "execution_count": 29,
   "metadata": {},
   "outputs": [],
   "source": [
    "confusionNoCV = confusion_matrix(y_test, pred5)"
   ]
  },
  {
   "cell_type": "code",
   "execution_count": 37,
   "metadata": {},
   "outputs": [
    {
     "name": "stderr",
     "output_type": "stream",
     "text": [
      "/usr/local/envs/py3env/lib/python3.5/site-packages/matplotlib/font_manager.py:1320: UserWarning: findfont: Font family ['sans-serif'] not found. Falling back to DejaVu Sans\n",
      "  (prop.get_family(), self.defaultFamily[fontext]))\n"
     ]
    },
    {
     "data": {
      "image/png": "[encoded data removed]",
      "text/plain": [
       "<matplotlib.figure.Figure at 0x7f99801eac50>"
      ]
     },
     "metadata": {},
     "output_type": "display_data"
    }
   ],
   "source": [
    "import itertools\n",
    "\n",
    "accuracy = np.trace(confusionNoCV) / float(np.sum(confusionNoCV))\n",
    "misclass = 1 - accuracy\n",
    "\n",
    "plt.figure(figsize=(8, 6))\n",
    "plt.imshow(confusionNoCV, interpolation='nearest', cmap='Reds')\n",
    "plt.title(\"RandomForest Basic Model:\")\n",
    "plt.colorbar()\n",
    "\n",
    "# tick_marks = np.arange(len(target_names))\n",
    "# plt.xticks(tick_marks, target_names, rotation=45)\n",
    "# plt.yticks(tick_marks, target_names)\n",
    "\n",
    "thresh = confusionNoCV.max() / 1.5 #if normalize else cm.max() / 2\n",
    "for i, j in itertools.product(range(confusionNoCV.shape[0]), range(confusionNoCV.shape[1])):\n",
    "\n",
    "#   if normalize:\n",
    "    plt.text(j, i, \"{:0.4f}\".format(confusionNoCV[i, j]),\n",
    "                     horizontalalignment=\"center\",\n",
    "                     color=\"white\" if confusionNoCV[i, j] > thresh else \"black\")\n",
    "\n",
    "plt.grid(b=None)\n",
    "plt.tight_layout()\n",
    "plt.ylabel('True label')\n",
    "plt.xlabel('Predicted label\\naccuracy={:0.4f}; misclass={:0.4f}'.format(accuracy, misclass))\n",
    "plt.show()"
   ]
  },
  {
   "cell_type": "code",
   "execution_count": 13,
   "metadata": {},
   "outputs": [],
   "source": [
    "#next we will do cross validation"
   ]
  },
  {
   "cell_type": "code",
   "execution_count": 14,
   "metadata": {},
   "outputs": [],
   "source": [
    "# random forest with cross validation, we are making a grid of paraters\n",
    "n_estimators=[2,4,8,16,24,48,80,100,200,300,400,500,750,1000]\n",
    "max_features = ['auto', 'sqrt']\n",
    "min_samples_split = [2, 4,6,8]\n",
    "max_depth= [5,10,15,20,25,30,40,50,60,70,80]\n",
    "\n",
    "random_grid = {'n_estimators': n_estimators,\n",
    "               'max_features': max_features,\n",
    "               'max_depth': max_depth,\n",
    "               'min_samples_split': min_samples_split,\n",
    "               }\n",
    "\n",
    "rfcv= RandomForestClassifier()"
   ]
  },
  {
   "cell_type": "code",
   "execution_count": 15,
   "metadata": {},
   "outputs": [],
   "source": [
    "rf_rcv = RandomizedSearchCV(estimator = rfcv, param_distributions = random_grid, n_iter = 10, cv = 3, verbose=2, random_state=0, n_jobs = -1)"
   ]
  },
  {
   "cell_type": "code",
   "execution_count": 17,
   "metadata": {},
   "outputs": [
    {
     "name": "stdout",
     "output_type": "stream",
     "text": [
      "env: JOBLIB_TEMP_FOLDER=/tmp\n"
     ]
    }
   ],
   "source": [
    "%env JOBLIB_TEMP_FOLDER=/tmp"
   ]
  },
  {
   "cell_type": "code",
   "execution_count": 18,
   "metadata": {},
   "outputs": [
    {
     "name": "stdout",
     "output_type": "stream",
     "text": [
      "Fitting 3 folds for each of 10 candidates, totalling 30 fits\n",
      "[CV] max_features=auto, n_estimators=750, min_samples_split=2, max_depth=40 \n",
      "[CV] max_features=auto, n_estimators=750, min_samples_split=2, max_depth=40 \n",
      "[CV] max_features=auto, n_estimators=750, min_samples_split=2, max_depth=40 \n",
      "[CV] max_features=sqrt, n_estimators=1000, min_samples_split=8, max_depth=25 \n",
      "[CV]  max_features=auto, n_estimators=750, min_samples_split=2, max_depth=40, total=132.6min\n",
      "[CV] max_features=sqrt, n_estimators=1000, min_samples_split=8, max_depth=25 \n",
      "[CV]  max_features=auto, n_estimators=750, min_samples_split=2, max_depth=40, total=134.5min\n",
      "[CV] max_features=sqrt, n_estimators=1000, min_samples_split=8, max_depth=25 \n",
      "[CV]  max_features=auto, n_estimators=750, min_samples_split=2, max_depth=40, total=141.7min\n",
      "[CV] max_features=sqrt, n_estimators=750, min_samples_split=6, max_depth=80 \n",
      "[CV]  max_features=sqrt, n_estimators=1000, min_samples_split=8, max_depth=25, total=163.6min\n",
      "[CV] max_features=sqrt, n_estimators=750, min_samples_split=6, max_depth=80 \n",
      "[CV]  max_features=sqrt, n_estimators=1000, min_samples_split=8, max_depth=25, total=120.1min\n",
      "[CV] max_features=sqrt, n_estimators=750, min_samples_split=6, max_depth=80 \n",
      "[CV]  max_features=sqrt, n_estimators=1000, min_samples_split=8, max_depth=25, total=127.0min\n",
      "[CV] max_features=auto, n_estimators=300, min_samples_split=8, max_depth=50 \n",
      "[CV]  max_features=sqrt, n_estimators=750, min_samples_split=6, max_depth=80, total=145.9min\n",
      "[CV] max_features=auto, n_estimators=300, min_samples_split=8, max_depth=50 \n",
      "[CV]  max_features=auto, n_estimators=300, min_samples_split=8, max_depth=50, total=54.2min\n",
      "[CV] max_features=auto, n_estimators=300, min_samples_split=8, max_depth=50 \n",
      "[CV]  max_features=sqrt, n_estimators=750, min_samples_split=6, max_depth=80, total=171.7min\n",
      "[CV] max_features=sqrt, n_estimators=100, min_samples_split=6, max_depth=40 \n",
      "[CV]  max_features=sqrt, n_estimators=100, min_samples_split=6, max_depth=40, total=21.4min\n",
      "[CV] max_features=sqrt, n_estimators=100, min_samples_split=6, max_depth=40 \n",
      "[CV]  max_features=sqrt, n_estimators=100, min_samples_split=6, max_depth=40, total=18.9min\n",
      "[CV] max_features=sqrt, n_estimators=100, min_samples_split=6, max_depth=40 \n",
      "[CV]  max_features=auto, n_estimators=300, min_samples_split=8, max_depth=50, total=58.9min\n",
      "[CV] max_features=auto, n_estimators=500, min_samples_split=4, max_depth=70 \n",
      "[CV]  max_features=auto, n_estimators=300, min_samples_split=8, max_depth=50, total=58.0min\n",
      "[CV] max_features=auto, n_estimators=500, min_samples_split=4, max_depth=70 \n",
      "[CV]  max_features=sqrt, n_estimators=100, min_samples_split=6, max_depth=40, total=17.9min\n",
      "[CV] max_features=auto, n_estimators=500, min_samples_split=4, max_depth=70 \n",
      "[CV]  max_features=sqrt, n_estimators=750, min_samples_split=6, max_depth=80, total=127.0min\n",
      "[CV] max_features=auto, n_estimators=500, min_samples_split=8, max_depth=15 \n",
      "[CV]  max_features=auto, n_estimators=500, min_samples_split=8, max_depth=15, total=50.5min\n",
      "[CV] max_features=auto, n_estimators=500, min_samples_split=8, max_depth=15 \n",
      "[CV]  max_features=auto, n_estimators=500, min_samples_split=4, max_depth=70, total=86.2min\n",
      "[CV] max_features=auto, n_estimators=500, min_samples_split=8, max_depth=15 \n",
      "[CV]  max_features=auto, n_estimators=500, min_samples_split=4, max_depth=70, total=91.5min\n",
      "[CV] max_features=auto, n_estimators=500, min_samples_split=6, max_depth=30 \n",
      "[CV]  max_features=auto, n_estimators=500, min_samples_split=8, max_depth=15, total=52.0min\n",
      "[CV] max_features=auto, n_estimators=500, min_samples_split=6, max_depth=30 \n",
      "[CV]  max_features=auto, n_estimators=500, min_samples_split=4, max_depth=70, total=114.2min\n",
      "[CV] max_features=auto, n_estimators=500, min_samples_split=6, max_depth=30 \n",
      "[CV]  max_features=auto, n_estimators=500, min_samples_split=8, max_depth=15, total=53.0min\n",
      "[CV] max_features=sqrt, n_estimators=8, min_samples_split=6, max_depth=70 \n",
      "[CV]  max_features=sqrt, n_estimators=8, min_samples_split=6, max_depth=70, total= 3.6min\n",
      "[CV] max_features=sqrt, n_estimators=8, min_samples_split=6, max_depth=70 \n",
      "[CV]  max_features=sqrt, n_estimators=8, min_samples_split=6, max_depth=70, total= 3.0min\n",
      "[CV] max_features=sqrt, n_estimators=8, min_samples_split=6, max_depth=70 \n",
      "[CV]  max_features=sqrt, n_estimators=8, min_samples_split=6, max_depth=70, total= 3.0min\n",
      "[CV] max_features=auto, n_estimators=750, min_samples_split=6, max_depth=30 \n",
      "[CV]  max_features=auto, n_estimators=500, min_samples_split=6, max_depth=30, total=72.9min\n",
      "[CV] max_features=auto, n_estimators=750, min_samples_split=6, max_depth=30 \n",
      "[CV]  max_features=auto, n_estimators=500, min_samples_split=6, max_depth=30, total=71.4min\n",
      "[CV] max_features=auto, n_estimators=750, min_samples_split=6, max_depth=30 \n",
      "[CV]  max_features=auto, n_estimators=500, min_samples_split=6, max_depth=30, total=81.4min\n",
      "[CV]  max_features=auto, n_estimators=750, min_samples_split=6, max_depth=30, total=106.6min\n",
      "[CV]  max_features=auto, n_estimators=750, min_samples_split=6, max_depth=30, total=96.3min\n",
      "[CV]  max_features=auto, n_estimators=750, min_samples_split=6, max_depth=30, total=86.8min\n"
     ]
    },
    {
     "name": "stderr",
     "output_type": "stream",
     "text": [
      "[Parallel(n_jobs=-1)]: Done  30 out of  30 | elapsed: 650.3min finished\n"
     ]
    },
    {
     "data": {
      "text/plain": [
       "RandomizedSearchCV(cv=3, error_score='raise',\n",
       "          estimator=RandomForestClassifier(bootstrap=True, class_weight=None, criterion='gini',\n",
       "            max_depth=None, max_features='auto', max_leaf_nodes=None,\n",
       "            min_impurity_decrease=0.0, min_impurity_split=None,\n",
       "            min_samples_leaf=1, min_samples_split=2,\n",
       "            min_weight_fraction_leaf=0.0, n_estimators=10, n_jobs=1,\n",
       "            oob_score=False, random_state=None, verbose=0,\n",
       "            warm_start=False),\n",
       "          fit_params=None, iid=True, n_iter=10, n_jobs=-1,\n",
       "          param_distributions={'max_features': ['auto', 'sqrt'], 'n_estimators': [2, 4, 8, 16, 24, 48, 80, 100, 200, 300, 400, 500, 750, 1000], 'min_samples_split': [2, 4, 6, 8], 'max_depth': [5, 10, 15, 20, 25, 30, 40, 50, 60, 70, 80]},\n",
       "          pre_dispatch='2*n_jobs', random_state=0, refit=True,\n",
       "          return_train_score='warn', scoring=None, verbose=2)"
      ]
     },
     "execution_count": 18,
     "metadata": {},
     "output_type": "execute_result"
    }
   ],
   "source": [
    "rf_rcv.fit(X_train,y_train)"
   ]
  },
  {
   "cell_type": "code",
   "execution_count": 19,
   "metadata": {},
   "outputs": [
    {
     "data": {
      "text/plain": [
       "{'max_depth': 15,\n",
       " 'max_features': 'auto',\n",
       " 'min_samples_split': 8,\n",
       " 'n_estimators': 500}"
      ]
     },
     "execution_count": 19,
     "metadata": {},
     "output_type": "execute_result"
    }
   ],
   "source": [
    "rf_rcv.best_params_"
   ]
  },
  {
   "cell_type": "code",
   "execution_count": 20,
   "metadata": {},
   "outputs": [
    {
     "data": {
      "text/plain": [
       "0.9388384444063731"
      ]
     },
     "execution_count": 20,
     "metadata": {},
     "output_type": "execute_result"
    }
   ],
   "source": [
    "rf_rcv.best_score_"
   ]
  },
  {
   "cell_type": "code",
   "execution_count": 24,
   "metadata": {},
   "outputs": [],
   "source": [
    "pred4 = rf_rcv.predict(X_test)"
   ]
  },
  {
   "cell_type": "code",
   "execution_count": 22,
   "metadata": {},
   "outputs": [
    {
     "data": {
      "text/plain": [
       "0.9408695652173913"
      ]
     },
     "execution_count": 22,
     "metadata": {},
     "output_type": "execute_result"
    }
   ],
   "source": [
    "rf_rcv.score(X_test,y_test)"
   ]
  },
  {
   "cell_type": "code",
   "execution_count": 23,
   "metadata": {},
   "outputs": [],
   "source": [
    "from sklearn.metrics import confusion_matrix, precision_score, recall_score"
   ]
  },
  {
   "cell_type": "code",
   "execution_count": 30,
   "metadata": {},
   "outputs": [],
   "source": [
    "cm = confusion_matrix(y_test, pred4)"
   ]
  },
  {
   "cell_type": "code",
   "execution_count": 31,
   "metadata": {},
   "outputs": [
    {
     "name": "stdout",
     "output_type": "stream",
     "text": [
      "[[2705    0]\n",
      " [ 170    0]]\n"
     ]
    }
   ],
   "source": [
    "print(cm)"
   ]
  },
  {
   "cell_type": "code",
   "execution_count": 34,
   "metadata": {},
   "outputs": [
    {
     "name": "stderr",
     "output_type": "stream",
     "text": [
      "/usr/local/envs/py3env/lib/python3.5/site-packages/matplotlib/font_manager.py:1320: UserWarning: findfont: Font family ['sans-serif'] not found. Falling back to DejaVu Sans\n",
      "  (prop.get_family(), self.defaultFamily[fontext]))\n"
     ]
    },
    {
     "data": {
      "image/png": "[encoded data removed]",
      "text/plain": [
       "<matplotlib.figure.Figure at 0x7f989a8040b8>"
      ]
     },
     "metadata": {},
     "output_type": "display_data"
    }
   ],
   "source": [
    "import itertools\n",
    "\n",
    "accuracy = np.trace(cm) / float(np.sum(cm))\n",
    "misclass = 1 - accuracy\n",
    "\n",
    "plt.figure(figsize=(8, 6))\n",
    "plt.imshow(cm, interpolation='nearest', cmap='Reds')\n",
    "plt.title(\"RandomForest Grid Search:\")\n",
    "plt.colorbar()\n",
    "\n",
    "# tick_marks = np.arange(len(target_names))\n",
    "# plt.xticks(tick_marks, target_names, rotation=45)\n",
    "# plt.yticks(tick_marks, target_names)\n",
    "\n",
    "thresh = cm.max() / 1.5 #if normalize else cm.max() / 2\n",
    "for i, j in itertools.product(range(cm.shape[0]), range(cm.shape[1])):\n",
    "\n",
    "#   if normalize:\n",
    "    plt.text(j, i, \"{:0.4f}\".format(cm[i, j]),\n",
    "                     horizontalalignment=\"center\",\n",
    "                     color=\"white\" if cm[i, j] > thresh else \"black\")\n",
    "#   else:\n",
    "#     plt.text(j, i, \"{:,}\".format(cm[i, j]),\n",
    "#                      horizontalalignment=\"center\",\n",
    "#                      color=\"white\" if cm[i, j] > thresh else \"black\")\n",
    "\n",
    "plt.grid(b=None)\n",
    "plt.tight_layout()\n",
    "plt.ylabel('True label')\n",
    "plt.xlabel('Predicted label\\naccuracy={:0.4f}; misclass={:0.4f}'.format(accuracy, misclass))\n",
    "plt.show()"
   ]
  },
  {
   "cell_type": "code",
   "execution_count": 38,
   "metadata": {},
   "outputs": [
    {
     "name": "stdout",
     "output_type": "stream",
     "text": [
      "\n",
      "\n",
      "Updates are available for some Cloud SDK components.  To install them,\n",
      "please run:\n",
      "  $ gcloud components update\n",
      "\n",
      "CommandException: No URLs matched: vsbRandomForest11.ipynbv\n"
     ]
    }
   ],
   "source": [
    "!gsutil cp 'vsbRandomForest11.ipynbv' gs://pitt_ml_pd"
   ]
  },
  {
   "cell_type": "code",
   "execution_count": null,
   "metadata": {},
   "outputs": [],
   "source": []
  }
 ],
 "metadata": {
  "kernelspec": {
   "display_name": "Python 3",
   "language": "python",
   "name": "python3"
  },
  "language_info": {
   "codemirror_mode": {
    "name": "ipython",
    "version": 3
   },
   "file_extension": ".py",
   "mimetype": "text/x-python",
   "name": "python",
   "nbconvert_exporter": "python",
   "pygments_lexer": "ipython3",
   "version": "3.5.6"
  }
 },
 "nbformat": 4,
 "nbformat_minor": 2
}
