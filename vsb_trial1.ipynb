{
 "cells": [
  {
   "cell_type": "code",
   "execution_count": 1,
   "metadata": {},
   "outputs": [
    {
     "name": "stdout",
     "output_type": "stream",
     "text": [
      "Requirement already satisfied: pyarrow in /usr/local/envs/py3env/lib/python3.5/site-packages (0.13.0)\n",
      "Requirement already satisfied: numpy>=1.14 in /usr/local/envs/py3env/lib/python3.5/site-packages (from pyarrow) (1.14.0)\n",
      "Requirement already satisfied: six>=1.0.0 in /usr/local/envs/py3env/lib/python3.5/site-packages (from pyarrow) (1.10.0)\n",
      "Requirement already satisfied: keras in /usr/local/envs/py3env/lib/python3.5/site-packages (2.2.4)\n",
      "Requirement already satisfied: six>=1.9.0 in /usr/local/envs/py3env/lib/python3.5/site-packages (from keras) (1.10.0)\n",
      "Requirement already satisfied: numpy>=1.9.1 in /usr/local/envs/py3env/lib/python3.5/site-packages (from keras) (1.14.0)\n",
      "Requirement already satisfied: keras-preprocessing>=1.0.5 in /usr/local/envs/py3env/lib/python3.5/site-packages (from keras) (1.0.9)\n",
      "Requirement already satisfied: pyyaml in /usr/local/envs/py3env/lib/python3.5/site-packages (from keras) (3.13)\n",
      "Requirement already satisfied: h5py in /usr/local/envs/py3env/lib/python3.5/site-packages (from keras) (2.7.1)\n",
      "Requirement already satisfied: scipy>=0.14 in /usr/local/envs/py3env/lib/python3.5/site-packages (from keras) (1.0.0)\n",
      "Requirement already satisfied: keras-applications>=1.0.6 in /usr/local/envs/py3env/lib/python3.5/site-packages (from keras) (1.0.7)\n",
      "Requirement already satisfied: tsfresh in /usr/local/envs/py3env/lib/python3.5/site-packages (0.11.2)\n",
      "Requirement already satisfied: scipy>=0.17.0 in /usr/local/envs/py3env/lib/python3.5/site-packages (from tsfresh) (1.0.0)\n",
      "Requirement already satisfied: requests>=2.9.1 in /usr/local/envs/py3env/lib/python3.5/site-packages (from tsfresh) (2.18.4)\n",
      "Requirement already satisfied: tqdm>=4.10.0 in /usr/local/envs/py3env/lib/python3.5/site-packages (from tsfresh) (4.31.1)\n",
      "Requirement already satisfied: distributed>=1.18.3 in /usr/local/envs/py3env/lib/python3.5/site-packages (from tsfresh) (1.21.8)\n",
      "Requirement already satisfied: patsy>=0.4.1 in /usr/local/envs/py3env/lib/python3.5/site-packages (from tsfresh) (0.5.0)\n",
      "Requirement already satisfied: numpy>=1.10.4 in /usr/local/envs/py3env/lib/python3.5/site-packages (from tsfresh) (1.14.0)\n",
      "Requirement already satisfied: six>=1.10.0 in /usr/local/envs/py3env/lib/python3.5/site-packages (from tsfresh) (1.10.0)\n",
      "Requirement already satisfied: dask>=0.15.2 in /usr/local/envs/py3env/lib/python3.5/site-packages (from tsfresh) (0.17.1)\n",
      "Requirement already satisfied: future>=0.16.0 in /usr/local/envs/py3env/lib/python3.5/site-packages (from tsfresh) (0.16.0)\n",
      "Requirement already satisfied: pandas<=0.23.4,>=0.20.3 in /usr/local/envs/py3env/lib/python3.5/site-packages (from tsfresh) (0.22.0)\n",
      "Requirement already satisfied: scikit-learn>=0.19.0 in /usr/local/envs/py3env/lib/python3.5/site-packages (from tsfresh) (0.19.1)\n",
      "Requirement already satisfied: statsmodels>=0.8.0 in /usr/local/envs/py3env/lib/python3.5/site-packages (from tsfresh) (0.8.0)\n",
      "Requirement already satisfied: chardet<3.1.0,>=3.0.2 in /usr/local/envs/py3env/lib/python3.5/site-packages (from requests>=2.9.1->tsfresh) (3.0.4)\n",
      "Requirement already satisfied: idna<2.7,>=2.5 in /usr/local/envs/py3env/lib/python3.5/site-packages (from requests>=2.9.1->tsfresh) (2.6)\n",
      "Requirement already satisfied: urllib3<1.23,>=1.21.1 in /usr/local/envs/py3env/lib/python3.5/site-packages (from requests>=2.9.1->tsfresh) (1.22)\n",
      "Requirement already satisfied: certifi>=2017.4.17 in /usr/local/envs/py3env/lib/python3.5/site-packages (from requests>=2.9.1->tsfresh) (2018.8.24)\n",
      "Requirement already satisfied: tblib in /usr/local/envs/py3env/lib/python3.5/site-packages (from distributed>=1.18.3->tsfresh) (1.3.2)\n",
      "Requirement already satisfied: msgpack in /usr/local/envs/py3env/lib/python3.5/site-packages (from distributed>=1.18.3->tsfresh) (0.5.6)\n",
      "Requirement already satisfied: click>=6.6 in /usr/local/envs/py3env/lib/python3.5/site-packages (from distributed>=1.18.3->tsfresh) (6.7)\n",
      "Requirement already satisfied: sortedcontainers in /usr/local/envs/py3env/lib/python3.5/site-packages (from distributed>=1.18.3->tsfresh) (2.0.5)\n",
      "Requirement already satisfied: toolz>=0.7.4 in /usr/local/envs/py3env/lib/python3.5/site-packages (from distributed>=1.18.3->tsfresh) (0.9.0)\n",
      "Requirement already satisfied: zict>=0.1.3 in /usr/local/envs/py3env/lib/python3.5/site-packages (from distributed>=1.18.3->tsfresh) (0.1.3)\n",
      "Requirement already satisfied: psutil in /usr/local/envs/py3env/lib/python3.5/site-packages (from distributed>=1.18.3->tsfresh) (4.3.0)\n",
      "Requirement already satisfied: tornado>=4.5.1 in /usr/local/envs/py3env/lib/python3.5/site-packages (from distributed>=1.18.3->tsfresh) (4.5.1)\n",
      "Requirement already satisfied: cloudpickle>=0.2.2 in /usr/local/envs/py3env/lib/python3.5/site-packages (from distributed>=1.18.3->tsfresh) (0.5.5)\n",
      "Requirement already satisfied: python-dateutil>=2 in /usr/local/envs/py3env/lib/python3.5/site-packages (from pandas<=0.23.4,>=0.20.3->tsfresh) (2.5.0)\n",
      "Requirement already satisfied: pytz>=2011k in /usr/local/envs/py3env/lib/python3.5/site-packages (from pandas<=0.23.4,>=0.20.3->tsfresh) (2018.4)\n",
      "Requirement already satisfied: heapdict in /usr/local/envs/py3env/lib/python3.5/site-packages (from zict>=0.1.3->distributed>=1.18.3->tsfresh) (1.0.0)\n",
      "Requirement already satisfied: sklearn in /usr/local/envs/py3env/lib/python3.5/site-packages (0.0)\n",
      "Requirement already satisfied: scikit-learn in /usr/local/envs/py3env/lib/python3.5/site-packages (from sklearn) (0.19.1)\n"
     ]
    }
   ],
   "source": [
    "!pip install pyarrow\n",
    "!pip install keras\n",
    "!pip install tsfresh\n",
    "!pip install sklearn"
   ]
  },
  {
   "cell_type": "code",
   "execution_count": 2,
   "metadata": {},
   "outputs": [
    {
     "name": "stderr",
     "output_type": "stream",
     "text": [
      "/usr/local/envs/py3env/lib/python3.5/site-packages/h5py/__init__.py:36: FutureWarning: Conversion of the second argument of issubdtype from `float` to `np.floating` is deprecated. In future, it will be treated as `np.float64 == np.dtype(float).type`.\n",
      "  from ._conv import register_converters as _register_converters\n",
      "/usr/local/envs/py3env/lib/python3.5/site-packages/statsmodels/compat/pandas.py:56: FutureWarning: The pandas.core.datetools module is deprecated and will be removed in a future version. Please use the pandas.tseries module instead.\n",
      "  from pandas.core import datetools\n",
      "Using TensorFlow backend.\n"
     ]
    }
   ],
   "source": [
    "import tensorflow as tf\n",
    "from sklearn.model_selection import train_test_split\n",
    "from sklearn.manifold import TSNE\n",
    "from sklearn.decomposition import PCA\n",
    "from tsfresh import extract_features,select_features\n",
    "from tsfresh import extract_relevant_features\n",
    "from keras.models import Sequential\n",
    "from keras.layers import Dense\n",
    "from keras.layers import LSTM\n",
    "from keras.layers.embeddings import Embedding\n",
    "from keras.preprocessing import sequence\n",
    "# import tqdm as tqdm\n",
    "from sklearn.model_selection import RandomizedSearchCV\n",
    "from sklearn.ensemble import RandomForestClassifier"
   ]
  },
  {
   "cell_type": "code",
   "execution_count": 3,
   "metadata": {},
   "outputs": [
    {
     "name": "stdout",
     "output_type": "stream",
     "text": [
      "b'Hello,TensorFlow!'\n"
     ]
    }
   ],
   "source": [
    "\n",
    "\n",
    "hello=tf.constant('Hello,TensorFlow!')\n",
    "\n",
    "sess=tf.Session()\n",
    "\n",
    "print(sess.run(hello))\n",
    "\n"
   ]
  },
  {
   "cell_type": "code",
   "execution_count": 4,
   "metadata": {},
   "outputs": [],
   "source": [
    "import pandas as pd"
   ]
  },
  {
   "cell_type": "code",
   "execution_count": 5,
   "metadata": {},
   "outputs": [],
   "source": [
    "import matplotlib as mt\n",
    "import numpy as np\n",
    "import pyarrow as pa\n",
    "import pyarrow.parquet as pq\n",
    "import matplotlib.pyplot as plt\n",
    "import seaborn as sns"
   ]
  },
  {
   "cell_type": "code",
   "execution_count": 6,
   "metadata": {},
   "outputs": [],
   "source": [
    "from keras.layers import *\n",
    "from keras.models import Model\n",
    "\n",
    "from sklearn.model_selection import train_test_split \n",
    "from keras import backend as K \n",
    "from keras import optimizers \n",
    "from keras.callbacks import  *"
   ]
  },
  {
   "cell_type": "code",
   "execution_count": null,
   "metadata": {},
   "outputs": [],
   "source": [
    "\n",
    "train1=pq.read_pandas('train1Scaled.parquet').to_pandas()"
   ]
  },
  {
   "cell_type": "code",
   "execution_count": null,
   "metadata": {},
   "outputs": [],
   "source": [
    "train2=train1.T"
   ]
  },
  {
   "cell_type": "code",
   "execution_count": null,
   "metadata": {},
   "outputs": [],
   "source": [
    "del train1"
   ]
  },
  {
   "cell_type": "code",
   "execution_count": null,
   "metadata": {},
   "outputs": [],
   "source": [
    "meta1=pd.read_csv(\"metadata_train.csv\")"
   ]
  },
  {
   "cell_type": "code",
   "execution_count": null,
   "metadata": {},
   "outputs": [],
   "source": [
    "import tsfresh as tsf\n",
    "import tslearn as tsl\n",
    "from tsfresh import extract_features"
   ]
  },
  {
   "cell_type": "code",
   "execution_count": null,
   "metadata": {},
   "outputs": [],
   "source": [
    "#this will be a target series\n",
    "df1=meta1.target"
   ]
  },
  {
   "cell_type": "code",
   "execution_count": null,
   "metadata": {},
   "outputs": [],
   "source": [
    "#target as a dataframe\n",
    "targ1=meta1['target']\n",
    "df11=pd.DataFrame(targ1)"
   ]
  },
  {
   "cell_type": "code",
   "execution_count": null,
   "metadata": {},
   "outputs": [],
   "source": []
  },
  {
   "cell_type": "code",
   "execution_count": null,
   "metadata": {},
   "outputs": [],
   "source": [
    "pca2 = PCA(n_components=2)\n",
    "pc2 = pca2.fit_transform(train2)\n",
    "pcdf2 = pd.DataFrame(data =train2, columns = ['principal_component1','principal_component2'])\n",
    "plt.figure(figsize=(15,10))\n",
    "plt.title('PCA with 2 componenets')\n",
    "plt.xlabel('Principal Component 1')\n",
    "plt.ylabel('Principal Component 2')\n",
    "plt.scatter(pcdf2.principal_component1,pcdf2.principal_component2,edgecolor='none',alpha=0.5,c=df1.target)\n",
    "plt.grid"
   ]
  },
  {
   "cell_type": "code",
   "execution_count": null,
   "metadata": {},
   "outputs": [],
   "source": []
  },
  {
   "cell_type": "code",
   "execution_count": null,
   "metadata": {},
   "outputs": [],
   "source": [
    "#creates features\n",
    "#this might take  a lot of time\n",
    "#feat1 is a matrix of features generated for the entire set, if made we can make models\n",
    "train22 = train2.stack()\n",
    "train22.index.rename([ 'id', 'time' ], inplace = True )\n",
    "train22 = train2.reset_index()\n",
    "feat1 = extract_features( train22, column_id = \"id\", column_sort = \"time\" )"
   ]
  },
  {
   "cell_type": "code",
   "execution_count": null,
   "metadata": {},
   "outputs": [],
   "source": [
    "# i am reshaing the data to be used for neural network\n",
    "# the shape should now be a 3-d array of the form 8712,800000,1\n",
    "train2=np.array(train2)\n",
    "train2=np.reshape(train2, train2.shape + (1,))\n",
    "train2.shape"
   ]
  },
  {
   "cell_type": "code",
   "execution_count": null,
   "metadata": {},
   "outputs": [],
   "source": [
    "from keras.models import Sequential\n",
    "from keras.layers import Dense\n",
    "from keras.layers import LSTM"
   ]
  },
  {
   "cell_type": "code",
   "execution_count": null,
   "metadata": {},
   "outputs": [],
   "source": [
    "#neural network model\n",
    "model = Sequential()\n",
    "model.add(LSTM(4, input_shape=(800000,1)))\n",
    "model.add(Dense(1))\n",
    "model.compile(loss='mean_squared_error', optimizer='adam')\n",
    "model"
   ]
  },
  {
   "cell_type": "code",
   "execution_count": null,
   "metadata": {},
   "outputs": [],
   "source": [
    "#training happens here\n",
    "model.fit(train2, df1, epochs=10, batch_size=100, verbose=2)"
   ]
  }
 ],
 "metadata": {
  "kernelspec": {
   "display_name": "Python 3",
   "language": "python",
   "name": "python3"
  },
  "language_info": {
   "codemirror_mode": {
    "name": "ipython",
    "version": 3
   },
   "file_extension": ".py",
   "mimetype": "text/x-python",
   "name": "python",
   "nbconvert_exporter": "python",
   "pygments_lexer": "ipython3",
   "version": "3.7.0"
  }
 },
 "nbformat": 4,
 "nbformat_minor": 2
}
